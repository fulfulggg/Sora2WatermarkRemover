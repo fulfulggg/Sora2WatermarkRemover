{
 "cells": [
  {
   "cell_type": "markdown",
   "metadata": {},
   "source": [
    "# Sora2 Watermark Remover - Simple Version\n",
    "\n",
    "シンプルな6ステップでSora動画からウォーターマークを除去します。\n",
    "\n",
    "**リポジトリ:** https://github.com/fulfulggg/Sora2WatermarkRemover"
   ]
  },
  {
   "cell_type": "markdown",
   "metadata": {},
   "source": [
    "## 1. 依存関係のインストール"
   ]
  },
  {
   "cell_type": "code",
   "execution_count": null,
   "metadata": {},
   "outputs": [],
   "source": [
    "!pip install -q iopaint transformers"
   ]
  },
  {
   "cell_type": "markdown",
   "metadata": {},
   "source": [
    "## 2. LaMaモデルのダウンロード"
   ]
  },
  {
   "cell_type": "code",
   "execution_count": null,
   "metadata": {},
   "outputs": [],
   "source": [
    "!iopaint download --model lama"
   ]
  },
  {
   "cell_type": "markdown",
   "metadata": {},
   "source": [
    "## 3. 最新コードの取得"
   ]
  },
  {
   "cell_type": "code",
   "execution_count": null,
   "metadata": {},
   "outputs": [],
   "source": [
    "!curl -sL https://github.com/fulfulggg/Sora2WatermarkRemover/archive/refs/heads/main.tar.gz | tar xz --strip-components=1\n",
    "print(\"\\n✅ リポジトリのダウンロードが完了しました。\")"
   ]
  },
  {
   "cell_type": "markdown",
   "metadata": {},
   "source": [
    "## 4. 動画のアップロード"
   ]
  },
  {
   "cell_type": "code",
   "execution_count": null,
   "metadata": {},
   "outputs": [],
   "source": [
    "from google.colab import files\n",
    "\n",
    "print(\"動画ファイルをアップロードしてください:\")\n",
    "uploaded = files.upload()\n",
    "\n",
    "input_file = list(uploaded.keys())[0]\n",
    "print(f\"\\n✅ アップロード完了: {input_file}\")"
   ]
  },
  {
   "cell_type": "markdown",
   "metadata": {},
   "source": [
    "## 5. ウォーターマークの除去\n",
    "\n",
    "パラメータ:\n",
    "- `--max-bbox-percent`: バウンディングボックスの最大サイズ（デフォルト: 15%）\n",
    "- `--force-format`: 出力形式（MP4/AVI）\n",
    "- `--overwrite`: 既存ファイルの上書き"
   ]
  },
  {
   "cell_type": "code",
   "execution_count": null,
   "metadata": {},
   "outputs": [],
   "source": [
    "!python remwm.py \"{input_file}\" \"/content/out.mp4\" \\\n",
    "  --max-bbox-percent=15 \\\n",
    "  --force-format=MP4 \\\n",
    "  --overwrite"
   ]
  },
  {
   "cell_type": "markdown",
   "metadata": {},
   "source": [
    "## 6. 結果のダウンロード"
   ]
  },
  {
   "cell_type": "code",
   "execution_count": null,
   "metadata": {},
   "outputs": [],
   "source": [
    "print(\"結果をダウンロード中...\")\n",
    "files.download('/content/out.mp4')\n",
    "print(\"\\n✅ 完了！\")"
   ]
  },
  {
   "cell_type": "markdown",
   "metadata": {},
   "source": [
    "---\n",
    "\n",
    "## オプション1: 固定位置ウォーターマーク除去（delogo）\n",
    "\n",
    "**推奨：** AI検出で一部フレームにウォーターマークが残る場合は、この方法を使用してください。\n",
    "\n",
    "### 特徴\n",
    "- ✅ **確実**: 固定位置のウォーターマークを100%除去\n",
    "- ✅ **高速**: AI検出不要、FFmpegで直接処理\n",
    "- ✅ **簡単**: 座標を指定するだけ"
   ]
  },
  {
   "cell_type": "markdown",
   "metadata": {},
   "source": [
    "### ステップ1: 位置確認（プレビュー）\n",
    "\n",
    "まず3秒分のプレビューでウォーターマークの位置を確認します。"
   ]
  },
  {
   "cell_type": "code",
   "execution_count": null,
   "metadata": {},
   "outputs": [],
   "source": [
    "# プレビュー生成（枠表示で位置調整）\n",
    "# x,y,w,h を調整してウォーターマークを完全に覆うようにする\n",
    "!ffmpeg -y -i \"{input_file}\" -vf \"delogo=x=80:y=80:w=320:h=120:show=1\" -t 3 /content/preview.mp4\n",
    "\n",
    "print(\"\\n✅ プレビュー生成完了: /content/preview.mp4\")\n",
    "print(\"枠がウォーターマークを完全に覆うまで、x,y,w,hを調整してください\")"
   ]
  },
  {
   "cell_type": "markdown",
   "metadata": {},
   "source": [
    "### ステップ2: 本番処理（delogo）\n",
    "\n",
    "位置が確認できたら、本番処理を実行します。"
   ]
  },
  {
   "cell_type": "code",
   "execution_count": null,
   "metadata": {},
   "outputs": [],
   "source": [
    "# 本番処理（delogoで確実除去）\n",
    "# ステップ1で確認した座標を使用\n",
    "!python remwm.py \"{input_file}\" \"/content/out.mp4\" \\\n",
    "  --delogo \"80,80,320,120\" \\\n",
    "  --force-format=MP4 \\\n",
    "  --overwrite\n",
    "\n",
    "print(\"\\n✅ 処理完了！\")"
   ]
  },
  {
   "cell_type": "markdown",
   "metadata": {},
   "source": [
    "### 複数の位置にウォーターマークがある場合\n",
    "\n",
    "複数の`--delogo`オプションを指定できます：\n",
    "\n",
    "```python\n",
    "!python remwm.py \"{input_file}\" \"/content/out.mp4\" \\\n",
    "  --delogo \"80,80,320,120\" \\\n",
    "  --delogo \"1200,780,340,130\" \\\n",
    "  --force-format=MP4 \\\n",
    "  --overwrite\n",
    "```"
   ]
  },
  {
   "cell_type": "markdown",
   "metadata": {},
   "source": [
    "---\n",
    "\n",
    "## オプション2: AI検出のパラメータ調整\n",
    "\n",
    "AI検出を使用する場合（ステップ5）、以下のパラメータで調整できます：\n",
    "\n",
    "```python\n",
    "!python remwm.py \"{input_file}\" \"/content/out.mp4\" \\\n",
    "  --max-bbox-percent=22 \\\n",
    "  --frame-step=1 \\\n",
    "  --target-fps=0 \\\n",
    "  --force-format=MP4 \\\n",
    "  --overwrite\n",
    "```\n",
    "\n",
    "- `--max-bbox-percent`: バウンディングボックスの最大サイズ（デフォルト: 10%）\n",
    "- `--frame-step`: フレーム処理間隔（1=全フレーム、2=隔フレーム...）\n",
    "- `--target-fps`: 出力fps指定（0=入力と同じ）"
   ]
  }
 ],
 "metadata": {
  "kernelspec": {
   "display_name": "Python 3",
   "language": "python",
   "name": "python3"
  },
  "language_info": {
   "name": "python",
   "version": "3.10.0"
  }
 },
 "nbformat": 4,
 "nbformat_minor": 2
}
