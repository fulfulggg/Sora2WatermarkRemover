{
  "cells": [
    {
      "cell_type": "markdown",
      "metadata": {
        "id": "ikGcGS_QI1Kf"
      },
      "source": [
        "# Sora2 Watermark Remover\n",
        "\n",
        "AI を使って Sora 動画からウォーターマークを除去します。\n",
        "\n",
        "**新機能:**\n",
        "- `--frame-step`: フレーム処理間隔（1=全フレーム、2=隔フレーム）\n",
        "- `--target-fps`: 出力fps指定（0=入力と同じ）\n",
        "\n",
        "**リポジトリ:** https://github.com/fulfulggg/Sora2WatermarkRemover\n"
      ]
    },
    {
      "cell_type": "code",
      "execution_count": 6,
      "metadata": {
        "colab": {
          "base_uri": "https://localhost:8080/"
        },
        "id": "2gy6Q-_8I1Kh",
        "outputId": "10e06855-97f0-45cb-b455-f1e7de392082"
      },
      "outputs": [
        {
          "output_type": "stream",
          "name": "stdout",
          "text": [
            "Cloning into 'Sora2WatermarkRemover'...\n",
            "remote: Enumerating objects: 185, done.\u001b[K\n",
            "remote: Counting objects: 100% (185/185), done.\u001b[K\n",
            "remote: Compressing objects: 100% (105/105), done.\u001b[K\n",
            "remote: Total 185 (delta 83), reused 178 (delta 76), pack-reused 0 (from 0)\u001b[K\n",
            "Receiving objects: 100% (185/185), 96.69 KiB | 24.17 MiB/s, done.\n",
            "Resolving deltas: 100% (83/83), done.\n",
            "/content/Sora2WatermarkRemover\n",
            "Already on 'main'\n",
            "Your branch is up to date with 'origin/main'.\n",
            "Already up to date.\n",
            "✅ リポジトリの準備完了\n"
          ]
        }
      ],
      "source": [
        "# リポジトリのクローンとブランチ切替\n",
        "!git clone https://github.com/fulfulggg/Sora2WatermarkRemover.git\n",
        "%cd Sora2WatermarkRemover\n",
        "!git fetch origin --prune\n",
        "!git checkout main\n",
        "!git pull --ff-only\n",
        "print(\"✅ リポジトリの準備完了\")\n"
      ]
    },
    {
      "cell_type": "markdown",
      "metadata": {
        "id": "b9EGrTXDI1Kh"
      },
      "source": [
        "## ⚠️ 重要: 依存関係の修正\n",
        "\n",
        "次のセルを実行後、**必ずランタイムを再起動**してください。\n"
      ]
    },
    {
      "cell_type": "code",
      "execution_count": 7,
      "metadata": {
        "colab": {
          "base_uri": "https://localhost:8080/",
          "height": 364
        },
        "id": "mxpBRE1yI1Kh",
        "outputId": "bb902a66-fd28-48ec-efe3-144ecc06b0a8"
      },
      "outputs": [
        {
          "output_type": "stream",
          "name": "stdout",
          "text": [
            "Found existing installation: Pillow 9.5.0\n",
            "Uninstalling Pillow-9.5.0:\n",
            "  Successfully uninstalled Pillow-9.5.0\n",
            "\u001b[33mWARNING: Skipping PIL as it is not installed.\u001b[0m\u001b[33m\n",
            "\u001b[0mCollecting pillow==10.4.0\n",
            "  Using cached pillow-10.4.0-cp312-cp312-manylinux_2_28_x86_64.whl.metadata (9.2 kB)\n",
            "Using cached pillow-10.4.0-cp312-cp312-manylinux_2_28_x86_64.whl (4.5 MB)\n",
            "Installing collected packages: pillow\n",
            "\u001b[31mERROR: pip's dependency resolver does not currently take into account all the packages that are installed. This behaviour is the source of the following dependency conflicts.\n",
            "iopaint 1.2.2 requires Pillow==9.5.0, but you have pillow 10.4.0 which is incompatible.\u001b[0m\u001b[31m\n",
            "\u001b[0mSuccessfully installed pillow-10.4.0\n"
          ]
        },
        {
          "output_type": "display_data",
          "data": {
            "application/vnd.colab-display-data+json": {
              "pip_warning": {
                "packages": [
                  "PIL"
                ]
              },
              "id": "530c09759de743e1ac8e576061d6de66"
            }
          },
          "metadata": {}
        },
        {
          "output_type": "stream",
          "name": "stdout",
          "text": [
            "\n",
            "✅ 完了。ランタイム→ランタイムを再起動 を実行してください。\n"
          ]
        }
      ],
      "source": [
        "# Pillow 修正（実行後にランタイムを再起動）\n",
        "!pip uninstall -y pillow PIL\n",
        "!pip install -U \"pillow==10.4.0\"\n",
        "print(\"\\n✅ 完了。ランタイム→ランタイムを再起動 を実行してください。\")\n"
      ]
    },
    {
      "cell_type": "code",
      "execution_count": 1,
      "metadata": {
        "colab": {
          "base_uri": "https://localhost:8080/"
        },
        "id": "6cZWm0-WI1Kh",
        "outputId": "0c2f46fe-f1b5-4efa-d97a-722147cc861b"
      },
      "outputs": [
        {
          "output_type": "stream",
          "name": "stdout",
          "text": [
            "Pillow: 10.4.0\n",
            "✅ 依存関係OK\n"
          ]
        }
      ],
      "source": [
        "# 再起動後の確認\n",
        "import PIL\n",
        "import PIL._util as u\n",
        "\n",
        "print(f\"Pillow: {PIL.__version__}\")\n",
        "assert PIL.__version__ == \"10.4.0\" and hasattr(u, \"is_directory\"), \"❌ ランタイムを再起動してください\"\n",
        "print(\"✅ 依存関係OK\")\n"
      ]
    },
    {
      "cell_type": "code",
      "execution_count": 2,
      "metadata": {
        "colab": {
          "base_uri": "https://localhost:8080/"
        },
        "id": "ZpbTs41KI1Ki",
        "outputId": "5d946e6f-40f3-40ee-d4f2-bccc6187d85f"
      },
      "outputs": [
        {
          "output_type": "stream",
          "name": "stdout",
          "text": [
            "Found existing installation: diffusers 0.26.3\n",
            "Uninstalling diffusers-0.26.3:\n",
            "  Successfully uninstalled diffusers-0.26.3\n",
            "Found existing installation: huggingface-hub 0.25.2\n",
            "Uninstalling huggingface-hub-0.25.2:\n",
            "  Successfully uninstalled huggingface-hub-0.25.2\n",
            "Found existing installation: transformers 4.42.4\n",
            "Uninstalling transformers-4.42.4:\n",
            "  Successfully uninstalled transformers-4.42.4\n",
            "\u001b[2K     \u001b[90m━━━━━━━━━━━━━━━━━━━━━━━━━━━━━━━━━━━━━━━━\u001b[0m \u001b[32m62.0/62.0 kB\u001b[0m \u001b[31m5.9 MB/s\u001b[0m eta \u001b[36m0:00:00\u001b[0m\n",
            "\u001b[2K   \u001b[90m━━━━━━━━━━━━━━━━━━━━━━━━━━━━━━━━━━━━━━━━\u001b[0m \u001b[32m16.5/16.5 MB\u001b[0m \u001b[31m35.8 MB/s\u001b[0m eta \u001b[36m0:00:00\u001b[0m\n",
            "\u001b[2K   \u001b[90m━━━━━━━━━━━━━━━━━━━━━━━━━━━━━━━━━━━━━━━━\u001b[0m \u001b[32m3.3/3.3 MB\u001b[0m \u001b[31m130.7 MB/s\u001b[0m eta \u001b[36m0:00:00\u001b[0m\n",
            "\u001b[?25h\u001b[31mERROR: pip's dependency resolver does not currently take into account all the packages that are installed. This behaviour is the source of the following dependency conflicts.\n",
            "tensorflow 2.19.0 requires numpy<2.2.0,>=1.26.0, but you have numpy 2.2.6 which is incompatible.\n",
            "google-adk 1.15.1 requires fastapi<1.0.0,>=0.115.0, but you have fastapi 0.108.0 which is incompatible.\n",
            "google-adk 1.15.1 requires starlette<1.0.0,>=0.46.2, but you have starlette 0.32.0.post1 which is incompatible.\n",
            "google-adk 1.15.1 requires websockets<16.0.0,>=15.0.1, but you have websockets 12.0 which is incompatible.\n",
            "yfinance 0.2.66 requires websockets>=13.0, but you have websockets 12.0 which is incompatible.\n",
            "numba 0.60.0 requires numpy<2.1,>=1.22, but you have numpy 2.2.6 which is incompatible.\u001b[0m\u001b[31m\n",
            "\u001b[0m\u001b[31mERROR: pip's dependency resolver does not currently take into account all the packages that are installed. This behaviour is the source of the following dependency conflicts.\n",
            "opencv-contrib-python 4.12.0.88 requires numpy<2.3.0,>=2; python_version >= \"3.9\", but you have numpy 1.26.4 which is incompatible.\n",
            "opencv-python-headless 4.12.0.88 requires numpy<2.3.0,>=2; python_version >= \"3.9\", but you have numpy 1.26.4 which is incompatible.\n",
            "opencv-python 4.12.0.88 requires numpy<2.3.0,>=2; python_version >= \"3.9\", but you have numpy 1.26.4 which is incompatible.\n",
            "google-adk 1.15.1 requires fastapi<1.0.0,>=0.115.0, but you have fastapi 0.108.0 which is incompatible.\n",
            "google-adk 1.15.1 requires starlette<1.0.0,>=0.46.2, but you have starlette 0.32.0.post1 which is incompatible.\n",
            "google-adk 1.15.1 requires websockets<16.0.0,>=15.0.1, but you have websockets 12.0 which is incompatible.\n",
            "yfinance 0.2.66 requires websockets>=13.0, but you have websockets 12.0 which is incompatible.\n",
            "thinc 8.3.6 requires numpy<3.0.0,>=2.0.0, but you have numpy 1.26.4 which is incompatible.\u001b[0m\u001b[31m\n",
            "\u001b[0mtransformers: 4.42.4\n",
            "huggingface_hub: 0.25.2\n",
            "diffusers: 0.26.3\n",
            "iopaint: 1.2.2\n",
            "✅ パッケージインストール完了\n"
          ]
        }
      ],
      "source": [
        "# 競合除去\n",
        "!pip uninstall -y diffusers huggingface_hub transformers\n",
        "\n",
        "# ベースライブラリ（ColabのGPU PyTorchを維持するためtorchは入れない）\n",
        "!pip install -q \"iopaint==1.2.2\" opencv-python tqdm loguru\n",
        "\n",
        "# 安定版ピン（Florence trust_remote_codeとiopaintの両立）\n",
        "!pip install -q \"diffusers==0.26.3\" \"huggingface_hub==0.25.2\" \"transformers==4.42.4\"\n",
        "\n",
        "!apt-get -qq install -y ffmpeg\n",
        "\n",
        "# バージョン確認\n",
        "from importlib.metadata import version as v\n",
        "print(f\"transformers: {v('transformers')}\")\n",
        "print(f\"huggingface_hub: {v('huggingface_hub')}\")\n",
        "print(f\"diffusers: {v('diffusers')}\")\n",
        "print(f\"iopaint: {v('iopaint')}\")\n",
        "print(\"✅ パッケージインストール完了\")\n"
      ]
    },
    {
      "cell_type": "code",
      "execution_count": 3,
      "metadata": {
        "colab": {
          "base_uri": "https://localhost:8080/"
        },
        "id": "4dQL1PgTI1Ki",
        "outputId": "d6641481-99b1-479f-9e3c-6f612c50d1bd"
      },
      "outputs": [
        {
          "output_type": "stream",
          "name": "stdout",
          "text": [
            "\u001b[32m2025-10-09 23:01:05.202\u001b[0m | \u001b[1mINFO    \u001b[0m | \u001b[36miopaint.runtime\u001b[0m:\u001b[36msetup_model_dir\u001b[0m:\u001b[36m82\u001b[0m - \u001b[1mModel directory: /root/.cache\u001b[0m\n",
            "/usr/local/lib/python3.12/dist-packages/diffusers/utils/outputs.py:63: FutureWarning: `torch.utils._pytree._register_pytree_node` is deprecated. Please use `torch.utils._pytree.register_pytree_node` instead.\n",
            "  torch.utils._pytree._register_pytree_node(\n",
            "/usr/local/lib/python3.12/dist-packages/diffusers/utils/outputs.py:63: FutureWarning: `torch.utils._pytree._register_pytree_node` is deprecated. Please use `torch.utils._pytree.register_pytree_node` instead.\n",
            "  torch.utils._pytree._register_pytree_node(\n",
            "/usr/local/lib/python3.12/dist-packages/diffusers/utils/outputs.py:63: FutureWarning: `torch.utils._pytree._register_pytree_node` is deprecated. Please use `torch.utils._pytree.register_pytree_node` instead.\n",
            "  torch.utils._pytree._register_pytree_node(\n",
            "/usr/local/lib/python3.12/dist-packages/diffusers/utils/outputs.py:63: FutureWarning: `torch.utils._pytree._register_pytree_node` is deprecated. Please use `torch.utils._pytree.register_pytree_node` instead.\n",
            "  torch.utils._pytree._register_pytree_node(\n",
            "/usr/local/lib/python3.12/dist-packages/iopaint/model/ldm.py:279: FutureWarning: `torch.cuda.amp.autocast(args...)` is deprecated. Please use `torch.amp.autocast('cuda', args...)` instead.\n",
            "  @torch.cuda.amp.autocast()\n",
            "\u001b[32m2025-10-09 23:01:09.407\u001b[0m | \u001b[1mINFO    \u001b[0m | \u001b[36miopaint.download\u001b[0m:\u001b[36mcli_download_model\u001b[0m:\u001b[36m26\u001b[0m - \u001b[1mDownloading lama...\u001b[0m\n",
            "\u001b[32m2025-10-09 23:01:09.407\u001b[0m | \u001b[1mINFO    \u001b[0m | \u001b[36miopaint.download\u001b[0m:\u001b[36mcli_download_model\u001b[0m:\u001b[36m28\u001b[0m - \u001b[1mDone.\u001b[0m\n",
            "✅ LaMaモデルのダウンロード完了\n"
          ]
        }
      ],
      "source": [
        "# LaMa モデルの事前ダウンロード\n",
        "!iopaint download --model lama\n",
        "print(\"✅ LaMaモデルのダウンロード完了\")\n"
      ]
    },
    {
      "cell_type": "code",
      "execution_count": 4,
      "metadata": {
        "colab": {
          "base_uri": "https://localhost:8080/"
        },
        "id": "2yVhR2U7I1Ki",
        "outputId": "907dcca7-f331-4929-c6e3-6df025289060"
      },
      "outputs": [
        {
          "output_type": "stream",
          "name": "stdout",
          "text": [
            "✅ flash_attn stub created at /content/Sora2WatermarkRemover/flash_attn\n"
          ]
        }
      ],
      "source": [
        "%%bash\n",
        "set -e\n",
        "cd /content/Sora2WatermarkRemover\n",
        "mkdir -p flash_attn\n",
        "cat > flash_attn/__init__.py <<'PY'\n",
        "\"\"\"\n",
        "Lightweight stub package for `flash_attn`.\n",
        "Satisfies import-time checks in Florence-2 (trust_remote_code). Not a real implementation.\n",
        "\"\"\"\n",
        "def __getattr__(name: str):\n",
        "    raise RuntimeError(\n",
        "        f\"flash_attn stub in use: attempted to access attribute '{name}'. \"\n",
        "        \"This environment runs with eager attention. If you need FlashAttention, \"\n",
        "        \"install a matching wheel for your CUDA/SM.\"\n",
        "    )\n",
        "PY\n",
        "echo \"✅ flash_attn stub created at /content/Sora2WatermarkRemover/flash_attn\"\n"
      ]
    },
    {
      "cell_type": "code",
      "execution_count": 5,
      "metadata": {
        "colab": {
          "base_uri": "https://localhost:8080/"
        },
        "id": "qVuda2WxI1Ki",
        "outputId": "09b78ec3-e923-4409-e586-0854279db48b"
      },
      "outputs": [
        {
          "output_type": "stream",
          "name": "stdout",
          "text": [
            "Device: cuda\n",
            "GPU: NVIDIA A100-SXM4-40GB\n"
          ]
        }
      ],
      "source": [
        "import torch\n",
        "\n",
        "device = \"cuda\" if torch.cuda.is_available() else \"cpu\"\n",
        "print(f\"Device: {device}\")\n",
        "\n",
        "if torch.cuda.is_available():\n",
        "    print(f\"GPU: {torch.cuda.get_device_name(0)}\")\n",
        "else:\n",
        "    print(\"⚠️ GPU未検出。ランタイム→ランタイムのタイプを変更→GPU\")\n"
      ]
    },
    {
      "cell_type": "code",
      "execution_count": 6,
      "metadata": {
        "colab": {
          "base_uri": "https://localhost:8080/",
          "height": 113
        },
        "id": "qkvpEpL3I1Ki",
        "outputId": "03d872d8-c611-4ec1-b46f-22bb02b8da72"
      },
      "outputs": [
        {
          "output_type": "stream",
          "name": "stdout",
          "text": [
            "動画ファイルをアップロード:\n"
          ]
        },
        {
          "output_type": "display_data",
          "data": {
            "text/plain": [
              "<IPython.core.display.HTML object>"
            ],
            "text/html": [
              "\n",
              "     <input type=\"file\" id=\"files-0135c0ad-cf17-494b-9b3d-8bd289c38032\" name=\"files[]\" multiple disabled\n",
              "        style=\"border:none\" />\n",
              "     <output id=\"result-0135c0ad-cf17-494b-9b3d-8bd289c38032\">\n",
              "      Upload widget is only available when the cell has been executed in the\n",
              "      current browser session. Please rerun this cell to enable.\n",
              "      </output>\n",
              "      <script>// Copyright 2017 Google LLC\n",
              "//\n",
              "// Licensed under the Apache License, Version 2.0 (the \"License\");\n",
              "// you may not use this file except in compliance with the License.\n",
              "// You may obtain a copy of the License at\n",
              "//\n",
              "//      http://www.apache.org/licenses/LICENSE-2.0\n",
              "//\n",
              "// Unless required by applicable law or agreed to in writing, software\n",
              "// distributed under the License is distributed on an \"AS IS\" BASIS,\n",
              "// WITHOUT WARRANTIES OR CONDITIONS OF ANY KIND, either express or implied.\n",
              "// See the License for the specific language governing permissions and\n",
              "// limitations under the License.\n",
              "\n",
              "/**\n",
              " * @fileoverview Helpers for google.colab Python module.\n",
              " */\n",
              "(function(scope) {\n",
              "function span(text, styleAttributes = {}) {\n",
              "  const element = document.createElement('span');\n",
              "  element.textContent = text;\n",
              "  for (const key of Object.keys(styleAttributes)) {\n",
              "    element.style[key] = styleAttributes[key];\n",
              "  }\n",
              "  return element;\n",
              "}\n",
              "\n",
              "// Max number of bytes which will be uploaded at a time.\n",
              "const MAX_PAYLOAD_SIZE = 100 * 1024;\n",
              "\n",
              "function _uploadFiles(inputId, outputId) {\n",
              "  const steps = uploadFilesStep(inputId, outputId);\n",
              "  const outputElement = document.getElementById(outputId);\n",
              "  // Cache steps on the outputElement to make it available for the next call\n",
              "  // to uploadFilesContinue from Python.\n",
              "  outputElement.steps = steps;\n",
              "\n",
              "  return _uploadFilesContinue(outputId);\n",
              "}\n",
              "\n",
              "// This is roughly an async generator (not supported in the browser yet),\n",
              "// where there are multiple asynchronous steps and the Python side is going\n",
              "// to poll for completion of each step.\n",
              "// This uses a Promise to block the python side on completion of each step,\n",
              "// then passes the result of the previous step as the input to the next step.\n",
              "function _uploadFilesContinue(outputId) {\n",
              "  const outputElement = document.getElementById(outputId);\n",
              "  const steps = outputElement.steps;\n",
              "\n",
              "  const next = steps.next(outputElement.lastPromiseValue);\n",
              "  return Promise.resolve(next.value.promise).then((value) => {\n",
              "    // Cache the last promise value to make it available to the next\n",
              "    // step of the generator.\n",
              "    outputElement.lastPromiseValue = value;\n",
              "    return next.value.response;\n",
              "  });\n",
              "}\n",
              "\n",
              "/**\n",
              " * Generator function which is called between each async step of the upload\n",
              " * process.\n",
              " * @param {string} inputId Element ID of the input file picker element.\n",
              " * @param {string} outputId Element ID of the output display.\n",
              " * @return {!Iterable<!Object>} Iterable of next steps.\n",
              " */\n",
              "function* uploadFilesStep(inputId, outputId) {\n",
              "  const inputElement = document.getElementById(inputId);\n",
              "  inputElement.disabled = false;\n",
              "\n",
              "  const outputElement = document.getElementById(outputId);\n",
              "  outputElement.innerHTML = '';\n",
              "\n",
              "  const pickedPromise = new Promise((resolve) => {\n",
              "    inputElement.addEventListener('change', (e) => {\n",
              "      resolve(e.target.files);\n",
              "    });\n",
              "  });\n",
              "\n",
              "  const cancel = document.createElement('button');\n",
              "  inputElement.parentElement.appendChild(cancel);\n",
              "  cancel.textContent = 'Cancel upload';\n",
              "  const cancelPromise = new Promise((resolve) => {\n",
              "    cancel.onclick = () => {\n",
              "      resolve(null);\n",
              "    };\n",
              "  });\n",
              "\n",
              "  // Wait for the user to pick the files.\n",
              "  const files = yield {\n",
              "    promise: Promise.race([pickedPromise, cancelPromise]),\n",
              "    response: {\n",
              "      action: 'starting',\n",
              "    }\n",
              "  };\n",
              "\n",
              "  cancel.remove();\n",
              "\n",
              "  // Disable the input element since further picks are not allowed.\n",
              "  inputElement.disabled = true;\n",
              "\n",
              "  if (!files) {\n",
              "    return {\n",
              "      response: {\n",
              "        action: 'complete',\n",
              "      }\n",
              "    };\n",
              "  }\n",
              "\n",
              "  for (const file of files) {\n",
              "    const li = document.createElement('li');\n",
              "    li.append(span(file.name, {fontWeight: 'bold'}));\n",
              "    li.append(span(\n",
              "        `(${file.type || 'n/a'}) - ${file.size} bytes, ` +\n",
              "        `last modified: ${\n",
              "            file.lastModifiedDate ? file.lastModifiedDate.toLocaleDateString() :\n",
              "                                    'n/a'} - `));\n",
              "    const percent = span('0% done');\n",
              "    li.appendChild(percent);\n",
              "\n",
              "    outputElement.appendChild(li);\n",
              "\n",
              "    const fileDataPromise = new Promise((resolve) => {\n",
              "      const reader = new FileReader();\n",
              "      reader.onload = (e) => {\n",
              "        resolve(e.target.result);\n",
              "      };\n",
              "      reader.readAsArrayBuffer(file);\n",
              "    });\n",
              "    // Wait for the data to be ready.\n",
              "    let fileData = yield {\n",
              "      promise: fileDataPromise,\n",
              "      response: {\n",
              "        action: 'continue',\n",
              "      }\n",
              "    };\n",
              "\n",
              "    // Use a chunked sending to avoid message size limits. See b/62115660.\n",
              "    let position = 0;\n",
              "    do {\n",
              "      const length = Math.min(fileData.byteLength - position, MAX_PAYLOAD_SIZE);\n",
              "      const chunk = new Uint8Array(fileData, position, length);\n",
              "      position += length;\n",
              "\n",
              "      const base64 = btoa(String.fromCharCode.apply(null, chunk));\n",
              "      yield {\n",
              "        response: {\n",
              "          action: 'append',\n",
              "          file: file.name,\n",
              "          data: base64,\n",
              "        },\n",
              "      };\n",
              "\n",
              "      let percentDone = fileData.byteLength === 0 ?\n",
              "          100 :\n",
              "          Math.round((position / fileData.byteLength) * 100);\n",
              "      percent.textContent = `${percentDone}% done`;\n",
              "\n",
              "    } while (position < fileData.byteLength);\n",
              "  }\n",
              "\n",
              "  // All done.\n",
              "  yield {\n",
              "    response: {\n",
              "      action: 'complete',\n",
              "    }\n",
              "  };\n",
              "}\n",
              "\n",
              "scope.google = scope.google || {};\n",
              "scope.google.colab = scope.google.colab || {};\n",
              "scope.google.colab._files = {\n",
              "  _uploadFiles,\n",
              "  _uploadFilesContinue,\n",
              "};\n",
              "})(self);\n",
              "</script> "
            ]
          },
          "metadata": {}
        },
        {
          "output_type": "stream",
          "name": "stdout",
          "text": [
            "Saving download.MP4 to download.MP4\n",
            "✅ アップロード: download.MP4\n"
          ]
        }
      ],
      "source": [
        "from google.colab import files\n",
        "\n",
        "print(\"動画ファイルをアップロード:\")\n",
        "uploaded = files.upload()\n",
        "input_video = list(uploaded.keys())[0]\n",
        "print(f\"✅ アップロード: {input_video}\")\n"
      ]
    },
    {
      "cell_type": "markdown",
      "metadata": {
        "id": "UIIplhisI1Ki"
      },
      "source": [
        "## パラメータ設定\n",
        "\n",
        "- `max_bbox_percent`: 検出する最大サイズ（画像比%）\n",
        "- `frame_step`: 処理間隔（1=全フレーム、2=隔フレーム）\n",
        "- `target_fps`: 出力fps（0=入力と同じ）\n"
      ]
    },
    {
      "cell_type": "code",
      "execution_count": 7,
      "metadata": {
        "colab": {
          "base_uri": "https://localhost:8080/",
          "height": 106
        },
        "id": "Ypi1Qe1SI1Kj",
        "outputId": "29d63fbb-8e05-43ed-be7d-8ee28ecc944b"
      },
      "outputs": [
        {
          "output_type": "error",
          "ename": "IndentationError",
          "evalue": "unexpected indent (ipython-input-365528374.py, line 23)",
          "traceback": [
            "\u001b[0;36m  File \u001b[0;32m\"/tmp/ipython-input-365528374.py\"\u001b[0;36m, line \u001b[0;32m23\u001b[0m\n\u001b[0;31m    --overwrite\u001b[0m\n\u001b[0m    ^\u001b[0m\n\u001b[0;31mIndentationError\u001b[0m\u001b[0;31m:\u001b[0m unexpected indent\n"
          ]
        }
      ],
      "source": [
        "# パラメータ\n",
        "max_bbox_percent = 10.0\n",
        "frame_step = 1\n",
        "target_fps = 0.0\n",
        "output_video = \"output.mp4\"\n",
        "\n",
        "# 処理実行\n",
        "import os\n",
        "import time\n",
        "\n",
        "input_path = f\"/content/{input_video}\"\n",
        "output_path = f\"/content/{output_video}\"\n",
        "\n",
        "%cd /content/Sora2WatermarkRemover\n",
        "\n",
        "print(f\"入力: {input_path}\")\n",
        "print(f\"出力: {output_path}\")\n",
        "print(f\"パラメータ: bbox={max_bbox_percent}%, step={frame_step}, fps={target_fps}\")\n",
        "print(\"\\n🚀 処理開始...\\n\")\n",
        "\n",
        "t0 = time.time()\n",
        "!python remwm.py \"{input_path}\" \"{output_path}\" \\\n",
        "  --max-bbox-percent {max_bbox_percent} \\\n",
        "  --frame-step {frame_step} \\\n",
        "  --target-fps {target_fps} \\\n",
        "  --force-format=MP4 \\\n",
        "  --overwrite\n",
        "\n",
        "elapsed = time.time() - t0\n",
        "\n",
        "if os.path.exists(output_path):\n",
        "    size_mb = os.path.getsize(output_path) / (1024 * 1024)\n",
        "    print(f\"\\n✅ 処理完了\")\n",
        "    print(f\"⏱ 処理時間: {elapsed:.1f}秒\")\n",
        "    print(f\"📊 ファイルサイズ: {size_mb:.2f} MB\")\n",
        "else:\n",
        "    print(\"\\n❌ エラー: 出力ファイルが作成されませんでした\")\n"
      ]
    },
    {
      "cell_type": "code",
      "execution_count": null,
      "metadata": {
        "id": "NnM9b5meI1Kj"
      },
      "outputs": [],
      "source": [
        "# 結果のダウンロード\n",
        "from google.colab import files\n",
        "\n",
        "files.download(f\"/content/{output_video}\")\n",
        "print(\"✅ ダウンロード完了\")\n"
      ]
    },
    {
      "cell_type": "markdown",
      "metadata": {
        "id": "MWWtez1oI1Kj"
      },
      "source": [
        "## 使い方のヒント\n",
        "\n",
        "### 処理を高速化\n",
        "```python\n",
        "frame_step = 2  # 隔フレーム処理\n",
        "```\n",
        "\n",
        "### 出力fpsを固定\n",
        "```python\n",
        "target_fps = 30\n",
        "```\n",
        "\n",
        "### 検出感度を調整\n",
        "```python\n",
        "max_bbox_percent = 15  # 大きいロゴも検出\n",
        "```\n"
      ]
    }
  ],
  "metadata": {
    "language_info": {
      "name": "python"
    },
    "colab": {
      "provenance": [],
      "gpuType": "A100"
    },
    "kernelspec": {
      "name": "python3",
      "display_name": "Python 3"
    },
    "accelerator": "GPU"
  },
  "nbformat": 4,
  "nbformat_minor": 0
}