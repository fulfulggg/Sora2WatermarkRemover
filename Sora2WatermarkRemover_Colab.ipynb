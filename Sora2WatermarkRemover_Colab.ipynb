{
  "nbformat": 4,
  "nbformat_minor": 0,
  "metadata": {
    "colab": {
      "provenance": [],
      "gpuType": "T4"
    },
    "kernelspec": {
      "name": "python3",
      "display_name": "Python 3"
    },
    "language_info": {
      "name": "python"
    },
    "accelerator": "GPU"
  },
  "cells": [
    {
      "cell_type": "markdown",
      "metadata": {
        "id": "header_1"
      },
      "source": [
        "# Sora2 Watermark Remover (Google Colab版)\n",
        "\n",
        "このノートブックは、Sora動画からウォーターマークを除去するツールのGoogle Colab版です。\n",
        "\n",
        "**新機能:**\n",
        "- `--frame-step`: フレーム処理間隔（1=全フレーム、2=隔フレーム...）\n",
        "- `--target-fps`: 出力fps指定（0=入力と同じ）\n",
        "\n",
        "**リポジトリ:** https://github.com/fulfulggg/Sora2WatermarkRemover"
      ]
    },
    {
      "cell_type": "markdown",
      "metadata": {
        "id": "setup_header"
      },
      "source": [
        "## 1. セットアップ\n",
        "\n",
        "### GitHubからリポジトリをクローン"
      ]
    },
    {
      "cell_type": "code",
      "metadata": {
        "id": "clone_repo"
      },
      "source": [
        "# GitHubリポジトリのクローン\n",
        "!git clone https://github.com/fulfulggg/Sora2WatermarkRemover.git\n",
        "%cd Sora2WatermarkRemover\n",
        "\n",
        "# ロールバック版ブランチ（GitHub30基準の安定版）に切り替え\n",
        "!git checkout revert/github30\n",
        "\n",
        "print(\"\\n✅ リポジトリのクローンが完了しました。\")"
      ],
      "execution_count": null,
      "outputs": []
    },
    {
      "cell_type": "markdown",
      "metadata": {
        "id": "pillow_warning"
      },
      "source": [
        "### ⚠️ 重要: Pillow依存関係の修正\n",
        "\n",
        "**🔴 重要: 以下のセルを実行後、必ずランタイムを再起動してください！**\n",
        "\n",
        "1. **下のセルを実行**\n",
        "2. **「ランタイム」→「ランタイムを再起動」を選択（必須！）**\n",
        "3. **再起動後、次のセルから実行を続ける**\n",
        "\n",
        "⚠️ **再起動しないとpathlibエラーが発生します**"
      ]
    },
    {
      "cell_type": "code",
      "metadata": {
        "id": "fix_pillow"
      },
      "source": [
        "# Pillow依存関係の修正（実行後にランタイムを再起動してください）\n",
        "!pip uninstall -y pillow PIL --no-cache-dir --quiet\n",
        "!pip install --no-cache-dir --quiet \"pillow==10.4.0\"\n",
        "!pip install --no-cache-dir --quiet \"websockets==15.0.1\"\n",
        "\n",
        "print(\"\\n✅ 完了しました。\")\n",
        "print(\"\\n🔴 重要: ランタイム→ランタイムを再起動 を今すぐ実行してください！\")\n",
        "print(\"再起動しないとpathlibエラーが発生します。\")"
      ],
      "execution_count": null,
      "outputs": []
    },
    {
      "cell_type": "markdown",
      "metadata": {
        "id": "after_restart_header"
      },
      "source": [
        "### ⬇️ ランタイム再起動後、ここから続行"
      ]
    },
    {
      "cell_type": "code",
      "metadata": {
        "id": "pathlib_test"
      },
      "source": [
        "# Path動作確認（再起動後の最初のセル）\n",
        "from pathlib import Path\n",
        "print(\"Path動作テスト:\", Path(\"/content\").exists())  # True ならOK\n",
        "\n",
        "if Path(\"/content\").exists():\n",
        "    print(\"✅ Pathlib正常動作を確認\")\n",
        "else:\n",
        "    print(\"❌ エラー: ランタイムを再起動してください\")"
      ],
      "execution_count": null,
      "outputs": []
    },
    {
      "cell_type": "code",
      "metadata": {
        "id": "change_directory_after_restart"
      },
      "source": [
        "# ディレクトリ移動（再起動後は必要）\n",
        "%cd /content/Sora2WatermarkRemover\n",
        "print(\"✅ 作業ディレクトリに移動しました\")"
      ],
      "execution_count": null,
      "outputs": []
    },
    {
      "cell_type": "code",
      "metadata": {
        "id": "check_pillow"
      },
      "source": [
        "# Pillow確認\n",
        "import PIL\n",
        "import PIL._util as u\n",
        "\n",
        "print(f\"Pillow version: {PIL.__version__}\")  # => 10.4.0\n",
        "print(f\"is_directory exists: {hasattr(u, 'is_directory')}\")  # => True\n",
        "\n",
        "if PIL.__version__ == \"10.4.0\" and hasattr(u, \"is_directory\"):\n",
        "    print(\"✅ Pillow依存関係は正常です。次のセルに進んでください。\")\n",
        "else:\n",
        "    print(\"⚠️ 問題があります。ランタイムを再起動しましたか？\")"
      ],
      "execution_count": null,
      "outputs": []
    },
    {
      "cell_type": "code",
      "metadata": {
        "id": "install_packages"
      },
      "source": [
        "# 必要なパッケージのインストール\n",
        "!pip install --no-cache-dir --quiet transformers torch opencv-python tqdm loguru iopaint\n",
        "!apt-get -qq install -y ffmpeg\n",
        "\n",
        "# LaMa モデルの事前ダウンロード（重要！）\n",
        "print(\"LaMaモデルをダウンロード中...\")\n",
        "!iopaint download --model lama\n",
        "\n",
        "print(\"\\n✅ パッケージ＋LaMaモデルの準備が完了しました。\")"
      ],
      "execution_count": null,
      "outputs": []
    },
    {
      "cell_type": "markdown",
      "metadata": {
        "id": "device_check_header"
      },
      "source": [
        "## 2. デバイス確認"
      ]
    },
    {
      "cell_type": "code",
      "metadata": {
        "id": "check_device"
      },
      "source": [
        "import torch\n",
        "\n",
        "device = \"cuda\" if torch.cuda.is_available() else \"cpu\"\n",
        "print(f\"Using device: {device}\")\n",
        "\n",
        "if torch.cuda.is_available():\n",
        "    print(f\"CUDA device: {torch.cuda.get_device_name(0)}\")\n",
        "else:\n",
        "    print(\"⚠️ GPUが利用できません。ランタイム→ランタイムのタイプを変更→GPUを選択してください。\")"
      ],
      "execution_count": null,
      "outputs": []
    },
    {
      "cell_type": "markdown",
      "metadata": {
        "id": "upload_header"
      },
      "source": [
        "## 3. 動画アップロード"
      ]
    },
    {
      "cell_type": "code",
      "metadata": {
        "id": "upload_video"
      },
      "source": [
        "from google.colab import files\n",
        "\n",
        "print(\"動画ファイルをアップロードしてください:\")\n",
        "uploaded = files.upload()\n",
        "\n",
        "# アップロードされたファイルを取得\n",
        "input_video = list(uploaded.keys())[0]\n",
        "print(f\"\\nUploaded: {input_video}\")"
      ],
      "execution_count": null,
      "outputs": []
    },
    {
      "cell_type": "markdown",
      "metadata": {
        "id": "processing_header"
      },
      "source": [
        "## 4. 動画処理\n",
        "\n",
        "### パラメータ設定\n",
        "\n",
        "- `max_bbox_percent`: バウンディングボックスの最大サイズ（画像に対する割合%）\n",
        "- `frame_step`: フレーム処理間隔（1=全フレーム、2=隔フレーム...）\n",
        "- `target_fps`: 出力fps（0=入力と同じ）"
      ]
    },
    {
      "cell_type": "code",
      "metadata": {
        "id": "process_video"
      },
      "source": [
        "# パラメータ設定（必要に応じて調整）\n",
        "max_bbox_percent = 10.0  # バウンディングボックスの最大サイズ\n",
        "frame_step = 1           # 1=全フレーム、2=隔フレーム\n",
        "target_fps = 0.0         # 0=入力と同じ\n",
        "\n",
        "output_video = \"output_no_watermark.mp4\"\n",
        "\n",
        "# ディレクトリ移動\n",
        "%cd /content/Sora2WatermarkRemover\n",
        "\n",
        "# 入力ファイルの確認\n",
        "import os\n",
        "input_path = f\"/content/{input_video}\"\n",
        "output_path = f\"/content/{output_video}\"\n",
        "\n",
        "if not os.path.exists(input_path):\n",
        "    print(f\"❌ エラー: 入力ファイルが見つかりません: {input_path}\")\n",
        "else:\n",
        "    print(f\"✅ 入力ファイル確認: {input_path}\")\n",
        "    print(f\"📝 出力先: {output_path}\")\n",
        "    print(f\"⚙️ パラメータ: max_bbox_percent={max_bbox_percent}, frame_step={frame_step}, target_fps={target_fps}\")\n",
        "    print(\"\\n🚀 処理を開始します...\\n\")\n",
        "    \n",
        "    # remwm.pyを実行\n",
        "    !python remwm.py \"{input_path}\" \"{output_path}\" \\\n",
        "      --max-bbox-percent {max_bbox_percent} \\\n",
        "      --frame-step {frame_step} \\\n",
        "      --target-fps {target_fps}\n",
        "    \n",
        "    # 出力ファイルの確認\n",
        "    if os.path.exists(output_path):\n",
        "        file_size = os.path.getsize(output_path) / (1024 * 1024)  # MB\n",
        "        print(f\"\\n✅ 処理完了: {output_path}\")\n",
        "        print(f\"📊 ファイルサイズ: {file_size:.2f} MB\")\n",
        "    else:\n",
        "        print(f\"\\n❌ エラー: 出力ファイルが作成されませんでした\")\n",
        "        print(\"上記のエラーメッセージを確認してください\")"
      ],
      "execution_count": null,
      "outputs": []
    },
    {
      "cell_type": "markdown",
      "metadata": {
        "id": "download_header"
      },
      "source": [
        "## 5. 結果のダウンロード"
      ]
    },
    {
      "cell_type": "code",
      "metadata": {
        "id": "download_result"
      },
      "source": [
        "# 結果のダウンロード\n",
        "print(\"結果をダウンロード:\")\n",
        "files.download(f\"/content/{output_video}\")"
      ],
      "execution_count": null,
      "outputs": []
    },
    {
      "cell_type": "markdown",
      "metadata": {
        "id": "tips_header"
      },
      "source": [
        "## 6. 使い方のヒント\n",
        "\n",
        "### 処理速度を上げたい場合\n",
        "\n",
        "```python\n",
        "frame_step = 2  # 隔フレーム処理（約2倍速）\n",
        "```\n",
        "\n",
        "### 出力fpsを固定したい場合\n",
        "\n",
        "```python\n",
        "target_fps = 30  # 30fpsで出力\n",
        "```\n",
        "\n",
        "### 組み合わせ例\n",
        "\n",
        "```python\n",
        "frame_step = 2\n",
        "target_fps = 30\n",
        "# → 隔フレーム処理して30fpsで出力\n",
        "```"
      ]
    },
    {
      "cell_type": "markdown",
      "metadata": {
        "id": "troubleshooting"
      },
      "source": [
        "## 7. トラブルシューティング\n",
        "\n",
        "### ⚠️ pathlibエラー（AttributeError: 'PosixPath' object has no attribute '_str'）\n",
        "\n",
        "**解決方法:**\n",
        "1. **ランタイムを再起動してください（必須）**\n",
        "   - Pillow再インストール直後の状態で起きる典型症状です\n",
        "2. **再起動後は次の順で実行:**\n",
        "   1) リポジトリ/ブランチ切替セル（revert/github30）\n",
        "   2) Pillow確認セル（version=10.4.0, is_directory=True を確認）\n",
        "   3) 依存＋LaMaダウンロードセル\n",
        "   4) 以降の処理セル\n",
        "\n",
        "### その他のよくある問題\n",
        "\n",
        "1. **pipインストールがハングアップする場合**\n",
        "   - ランタイムを再起動してもう一度実行\n",
        "\n",
        "2. **LaMaモデルが読み込めない場合**\n",
        "   - `!iopaint download --model lama`を再実行\n",
        "   - ランタイムを再起動\n",
        "\n",
        "3. **GPUが使用できない場合**\n",
        "   - ランタイム→ランタイムのタイプを変更→GPU（T4推奨）を選択\n",
        "\n",
        "4. **メモリエラーの場合**\n",
        "   - `frame_step`を大きくして処理フレーム数を減らす\n",
        "   - 動画を短く分割して処理\n",
        "\n",
        "### デバッグ用テストコード\n",
        "\n",
        "```python\n",
        "# Path動作確認\n",
        "from pathlib import Path\n",
        "print(Path(\"/content\").exists())  # True ならOK\n",
        "```"
      ]
    }
  ]
}
