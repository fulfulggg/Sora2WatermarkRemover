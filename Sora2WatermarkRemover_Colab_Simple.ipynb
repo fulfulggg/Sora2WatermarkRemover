{
 "cells": [
  {
   "cell_type": "markdown",
   "metadata": {},
   "source": [
    "# Sora2 Watermark Remover - Simple Version\n",
    "\n",
    "シンプルな6ステップでSora動画からウォーターマークを除去します。\n",
    "\n",
    "**リポジトリ:** https://github.com/fulfulggg/Sora2WatermarkRemover"
   ]
  },
  {
   "cell_type": "markdown",
   "metadata": {},
   "source": [
    "## 1. 依存関係のインストール"
   ]
  },
  {
   "cell_type": "code",
   "execution_count": null,
   "metadata": {},
   "outputs": [],
   "source": [
    "%pip install -q \"iopaint==1.2.2\" \"transformers==4.42.4\" opencv-python loguru tqdm\n",
    "!apt-get -qq update && apt-get -qq install -y ffmpeg"
   ]
  },
  {
   "cell_type": "markdown",
   "metadata": {},
   "source": [
    "## 2. LaMaモデルのダウンロード"
   ]
  },
  {
   "cell_type": "code",
   "execution_count": null,
   "metadata": {},
   "outputs": [],
   "source": [
    "!iopaint download --model lama"
   ]
  },
  {
   "cell_type": "markdown",
   "metadata": {},
   "source": [
    "## 3. 最新コードの取得"
   ]
  },
  {
   "cell_type": "code",
   "execution_count": null,
   "metadata": {},
   "outputs": [],
   "source": [
    "!curl -sL https://github.com/fulfulggg/Sora2WatermarkRemover/archive/refs/heads/main.tar.gz | tar xz --strip-components=1\n",
    "print(\"\\n✅ リポジトリのダウンロードが完了しました。\")"
   ]
  },
  {
   "cell_type": "markdown",
   "metadata": {},
   "source": [
    "## 4. 動画のアップロード"
   ]
  },
  {
   "cell_type": "code",
   "execution_count": null,
   "metadata": {},
   "outputs": [],
   "source": [
    "from google.colab import files\n",
    "\n",
    "print(\"動画ファイルをアップロードしてください:\")\n",
    "uploaded = files.upload()\n",
    "\n",
    "input_file = list(uploaded.keys())[0]\n",
    "# 絶対パスに正規化\n",
    "import os, shutil\n",
    "src = os.path.abspath(input_file)\n",
    "_, ext = os.path.splitext(src)\n",
    "input_path = f\"/content/input_uploaded{ext or '.mp4'}\"\n",
    "if src != input_path:\n",
    "    shutil.move(src, input_path)\n",
    "print(f\"\\n✅ アップロード完了: {input_path}\")"
   ]
  },
  {
   "cell_type": "markdown",
   "metadata": {},
   "source": [
    "## 5. ウォーターマークの除去\n",
    "\n",
    "Florence-2 AIがウォーターマークを自動検出して除去します。"
   ]
  },
  {
   "cell_type": "code",
   "execution_count": null,
   "metadata": {},
   "outputs": [],
   "source": [
    "!python remwm.py \"{input_path}\" \"/content/out.mp4\" --overwrite"
   ]
  },
  {
   "cell_type": "markdown",
   "metadata": {},
   "source": [
    "## 6. 結果のダウンロード"
   ]
  },
  {
   "cell_type": "code",
   "execution_count": null,
   "metadata": {},
   "outputs": [],
   "source": [
    "print(\"結果をダウンロード中...\")\n",
    "files.download('/content/out.mp4')\n",
    "print(\"\\n✅ 完了！\")"
   ]
  }
 ],
 "metadata": {
  "kernelspec": {
   "display_name": "Python 3",
   "language": "python",
   "name": "python3"
  },
  "language_info": {
   "name": "python",
   "version": "3.10.0"
  }
 },
 "nbformat": 4,
 "nbformat_minor": 2
}
