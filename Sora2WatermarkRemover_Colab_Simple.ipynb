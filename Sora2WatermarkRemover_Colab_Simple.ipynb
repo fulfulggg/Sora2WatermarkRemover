{
 "cells": [
  {
   "cell_type": "markdown",
   "metadata": {},
   "source": [
    "# Sora2 Watermark Remover - Simple Version\n",
    "\n",
    "シンプルな6ステップでSora動画からウォーターマークを除去します。\n",
    "\n",
    "**リポジトリ:** https://github.com/fulfulggg/Sora2WatermarkRemover"
   ]
  },
  {
   "cell_type": "markdown",
   "metadata": {},
   "source": [
    "## 1. 依存関係のインストール"
   ]
  },
  {
   "cell_type": "code",
   "execution_count": null,
   "metadata": {},
   "outputs": [],
   "source": [
    "!pip install -q iopaint transformers"
   ]
  },
  {
   "cell_type": "markdown",
   "metadata": {},
   "source": [
    "## 2. LaMaモデルのダウンロード"
   ]
  },
  {
   "cell_type": "code",
   "execution_count": null,
   "metadata": {},
   "outputs": [],
   "source": [
    "!iopaint download --model lama"
   ]
  },
  {
   "cell_type": "markdown",
   "metadata": {},
   "source": [
    "## 3. 最新コードの取得"
   ]
  },
  {
   "cell_type": "code",
   "execution_count": null,
   "metadata": {},
   "outputs": [],
   "source": [
    "!curl -sL https://github.com/fulfulggg/Sora2WatermarkRemover/archive/refs/heads/main.tar.gz | tar xz --strip-components=1\n",
    "print(\"\\n✅ リポジトリのダウンロードが完了しました。\")"
   ]
  },
  {
   "cell_type": "markdown",
   "metadata": {},
   "source": [
    "## 4. 動画のアップロード"
   ]
  },
  {
   "cell_type": "code",
   "execution_count": null,
   "metadata": {},
   "outputs": [],
   "source": [
    "from google.colab import files\n",
    "\n",
    "print(\"動画ファイルをアップロードしてください:\")\n",
    "uploaded = files.upload()\n",
    "\n",
    "input_file = list(uploaded.keys())[0]\n",
    "print(f\"\\n✅ アップロード完了: {input_file}\")"
   ]
  },
  {
   "cell_type": "markdown",
   "metadata": {},
   "source": [
    "## 5. ウォーターマークの除去（AI検出）\n",
    "\n",
    "Florence-2 AIがウォーターマークを自動検出して除去します。\n",
    "\n",
    "**パラメータ調整（必要に応じて）:**\n",
    "- `--max-bbox-percent`: 検出サイズの上限（デフォルト: 15%）\n",
    "- `--frame-step`: 処理間隔（1=全フレーム、2=隔フレーム）\n",
    "- `--target-fps`: 出力fps（0=入力と同じ）"
   ]
  },
  {
   "cell_type": "code",
   "execution_count": null,
   "metadata": {},
   "outputs": [],
   "source": [
    "!python remwm.py \"{input_file}\" \"/content/out.mp4\" \\\n",
    "  --max-bbox-percent=15 \\\n",
    "  --frame-step=1 \\\n",
    "  --target-fps=0 \\\n",
    "  --force-format=MP4 \\\n",
    "  --overwrite"
   ]
  },
  {
   "cell_type": "markdown",
   "metadata": {},
   "source": [
    "## 6. 結果のダウンロード"
   ]
  },
  {
   "cell_type": "code",
   "execution_count": null,
   "metadata": {},
   "outputs": [],
   "source": [
    "print(\"結果をダウンロード中...\")\n",
    "files.download('/content/out.mp4')\n",
    "print(\"\\n✅ 完了！\")"
   ]
  },
  {
   "cell_type": "markdown",
   "metadata": {},
   "source": [
    "---\n",
    "\n",
    "## トラブルシューティング: ウォーターマークが残っている場合\n",
    "\n",
    "**⚠️ 通常は上記のステップ1-6だけでOKです。**\n",
    "\n",
    "一部フレームにウォーターマークが残っている場合のみ、以下を使用してください。"
   ]
  },
  {
   "cell_type": "markdown",
   "metadata": {},
   "source": [
    "### 方法1: 固定位置の場合\n",
    "\n",
    "ウォーターマークが常に同じ位置にある場合"
   ]
  },
  {
   "cell_type": "code",
   "execution_count": null,
   "metadata": {},
   "outputs": [],
   "source": [
    "# ステップ1: プレビュー生成（枠表示で位置確認）\n",
    "# x,y,w,h を調整してウォーターマークを完全に覆うようにする\n",
    "!ffmpeg -y -i \"{input_file}\" -vf \"delogo=x=80:y=80:w=320:h=120:show=1\" -t 3 /content/preview.mp4\n",
    "\n",
    "print(\"\\n✅ プレビュー生成完了\")\n",
    "print(\"次のセルでダウンロードして、枠の位置を確認してください\")"
   ]
  },
  {
   "cell_type": "code",
   "execution_count": null,
   "metadata": {},
   "outputs": [],
   "source": [
    "# プレビューをダウンロード\n",
    "files.download('/content/preview.mp4')\n",
    "print(\"\\n📥 ダウンロード完了！枠がウォーターマークを覆っているか確認してください\")\n",
    "print(\"覆っていない場合は、上のセルのx,y,w,hを調整して再実行してください\")"
   ]
  },
  {
   "cell_type": "code",
   "execution_count": null,
   "metadata": {},
   "outputs": [],
   "source": [
    "# ステップ2: 本番処理（上で確認した座標を使用）\n",
    "!ffmpeg -y -i \"{input_file}\" -vf \"delogo=x=80:y=80:w=320:h=120\" -c:a copy /content/out_fix.mp4\n",
    "print(\"\\n✅ 処理完了！\")"
   ]
  },
  {
   "cell_type": "code",
   "execution_count": null,
   "metadata": {},
   "outputs": [],
   "source": [
    "# 結果をダウンロード\n",
    "files.download('/content/out_fix.mp4')\n",
    "print(\"\\n✅ 完了！\")"
   ]
  },
  {
   "cell_type": "markdown",
   "metadata": {},
   "source": [
    "### 方法2: 位置が時間で変わる場合\n",
    "\n",
    "ウォーターマークの位置が時間と共に変わる場合、時間区間ごとに座標を指定します。\n",
    "\n",
    "**例:** 0-2.2秒は左上、2.2-5秒は右下"
   ]
  },
  {
   "cell_type": "code",
   "execution_count": null,
   "metadata": {},
   "outputs": [],
   "source": [
    "# 時間区間を指定して処理\n",
    "# enable='between(t,開始秒,終了秒)' で時間を指定\n",
    "!ffmpeg -y -i \"{input_file}\" -vf \"delogo=x=80:y=80:w=320:h=120:enable='between(t,0,2.2)',delogo=x=520:y=840:w=360:h=140:enable='between(t,2.2,5.0)'\" -c:a copy /content/out_fix.mp4\n",
    "print(\"\\n✅ 処理完了！\")"
   ]
  },
  {
   "cell_type": "code",
   "execution_count": null,
   "metadata": {},
   "outputs": [],
   "source": [
    "# 結果をダウンロード\n",
    "files.download('/content/out_fix.mp4')\n",
    "print(\"\\n✅ 完了！\")"
   ]
  }
 ],
 "metadata": {
  "kernelspec": {
   "display_name": "Python 3",
   "language": "python",
   "name": "python3"
  },
  "language_info": {
   "name": "python",
   "version": "3.10.0"
  }
 },
 "nbformat": 4,
 "nbformat_minor": 2
}
