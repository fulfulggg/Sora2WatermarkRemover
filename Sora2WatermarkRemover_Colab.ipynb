{
 "cells": [
  {
   "cell_type": "markdown",
   "metadata": {
    "id": "header"
   },
   "source": [
    "# Sora2 Watermark Remover (Google Colab版)\n",
    "\n",
    "このノートブックは、Sora動画からウォーターマークを除去するツールのGoogle Colab版です。\n",
    "\n",
    "**新機能:**\n",
    "- `--frame-step`: フレーム処理間隔（1=全フレーム、2=隔フレーム...）\n",
    "- `--target-fps`: 出力fps指定（0=入力と同じ）\n",
    "\n",
    "**リポジトリ:** https://github.com/fulfulggg/Sora2WatermarkRemover"
   ]
  },
  {
   "cell_type": "markdown",
   "metadata": {
    "id": "setup"
   },
   "source": [
    "## 1. セットアップ\n",
    "\n",
    "### GitHubからリポジトリをクローン"
   ]
  },
  {
   "cell_type": "code",
   "execution_count": null,
   "metadata": {
    "id": "clone_repo"
   },
   "outputs": [],
   "source": [
    "# GitHubリポジトリのクローン\n",
    "!git clone https://github.com/fulfulggg/Sora2WatermarkRemover.git\n",
    "%cd Sora2WatermarkRemover\n",
    "\n",
    "# 取得＆ブランチ切替（main優先、無ければfeat/frame-step）\n",
    "!git fetch origin --prune\n",
    "!git checkout main || git checkout feat/frame-step\n",
    "!git pull --ff-only\n",
    "\n",
    "print(\"\\n✅ リポジトリの準備が完了しました（main優先）。\")"
   ]
  },
  {
   "cell_type": "markdown",
   "metadata": {
    "id": "pillow_fix"
   },
   "source": [
    "### ⚠️ 重要: Pillow依存関係の修正\n",
    "\n",
    "**以下のセルを実行し、その後必ずランタイムを再起動してください。**\n",
    "\n",
    "1. 下のセルを実行\n",
    "2. 「ランタイム」→「ランタイムを再起動」を選択\n",
    "3. 再起動後、次のセルから実行を続ける"
   ]
  },
  {
   "cell_type": "code",
   "execution_count": null,
   "metadata": {
    "id": "fix_pillow"
   },
   "outputs": [],
    "source": [
     "# Pillow依存関係の修正（実行後にランタイムを再起動してください）\n",
     "!pip uninstall -y pillow PIL\n",
     "!pip install -U \"pillow==10.4.0\"\n",
     "\n",
     "# オプション: websockets警告の抑制\n",
     "!pip install -U \"websockets==15.0.1\"\n",
     "\n",
     "print(\"\\n✅ 完了しました。ランタイム→ランタイムを再起動 を実行してください。\")"
    ]
  },
  {
   "cell_type": "code",
   "execution_count": null,
   "metadata": {
    "id": "verify_pillow"
   },
   "outputs": [],
   "source": [
    "# 再起動後の確認（このセルを最初に実行）\n",
    "import PIL\n",
    "import PIL._util as u\n",
    "\n",
    "print(f\"Pillow version: {PIL.__version__}\")  # => 10.4.0\n",
    "print(f\"is_directory exists: {hasattr(u, 'is_directory')}\")  # => True\n",
    "\n",
    "if PIL.__version__ == \"10.4.0\" and hasattr(u, \"is_directory\"):\n",
    "    print(\"✅ Pillow依存関係は正常です。次のセルに進んでください。\")\n",
    "else:\n",
    "    print(\"⚠️ 問題があります。ランタイムを再起動しましたか？\")"
   ]
  },
  {
   "cell_type": "code",
   "execution_count": null,
   "metadata": {
    "id": "install"
   },
   "outputs": [],
    "source": [
     "# 必要なパッケージのインストール\n",
     "# 0) 既存の競合パッケージをアンインストール（環境整合のため）\n",
     "!pip uninstall -y diffusers huggingface_hub transformers\n",
     "\n",
     "# 1) 基本ライブラリ + iopaint\n",
     "!pip install -q transformers torch opencv-python tqdm loguru iopaint\n",
     "\n",
     "# 2) 互換性ピン（iopaint と transformers の両立）\n",
     "!pip install -q \"diffusers==0.26.3\" \"huggingface_hub>=0.34,<1.0\" \"transformers>=4.45,<5\"\n",
     "\n",
     "!apt-get -qq install -y ffmpeg\n",
     "\n",
     "print(\"✅ パッケージのインストールが完了しました（iopaint/transformers 互換ピン適用）。\")\n",
     "\n",
     "# バージョン確認（任意）\n",
     "import sitecustomize\n",
     "import huggingface_hub, diffusers, transformers\n",
     "print(f\"huggingface_hub: {huggingface_hub.__version__}\")\n",
     "print(f\"diffusers      : {diffusers.__version__}\")\n",
     "print(f\"transformers   : {transformers.__version__}\")"
    ]
  },
  {
   "cell_type": "markdown",
   "metadata": {
    "id": "device_check"
   },
   "source": [
    "## 2. デバイス確認"
   ]
  },
  {
   "cell_type": "code",
   "execution_count": null,
   "metadata": {
    "id": "check_device"
   },
   "outputs": [],
   "source": [
    "import torch\n",
    "\n",
    "device = \"cuda\" if torch.cuda.is_available() else \"cpu\"\n",
    "print(f\"Using device: {device}\")\n",
    "\n",
    "if torch.cuda.is_available():\n",
    "    print(f\"CUDA device: {torch.cuda.get_device_name(0)}\")\n",
    "else:\n",
    "    print(\"⚠️ GPUが利用できません。ランタイム→ランタイムのタイプを変更→GPUを選択してください。\")"
   ]
  },
  {
   "cell_type": "markdown",
   "metadata": {
    "id": "upload"
   },
   "source": [
    "## 3. 動画アップロード"
   ]
  },
  {
   "cell_type": "code",
   "execution_count": null,
   "metadata": {
    "id": "upload_video"
   },
   "outputs": [],
   "source": [
    "from google.colab import files\n",
    "\n",
    "print(\"動画ファイルをアップロードしてください:\")\n",
    "uploaded = files.upload()\n",
    "\n",
    "# アップロードされたファイルを取得\n",
    "input_video = list(uploaded.keys())[0]\n",
    "print(f\"\\nUploaded: {input_video}\")"
   ]
  },
  {
   "cell_type": "markdown",
   "metadata": {
    "id": "process"
   },
   "source": [
    "## 4. 動画処理\n",
    "\n",
    "### パラメータ設定\n",
    "\n",
    "- `max_bbox_percent`: バウンディングボックスの最大サイズ（画像に対する割合%）\n",
    "- `frame_step`: フレーム処理間隔（1=全フレーム、2=隔フレーム...）\n",
    "- `target_fps`: 出力fps（0=入力と同じ）"
   ]
  },
  {
   "cell_type": "code",
   "execution_count": null,
   "metadata": {
    "id": "process_video"
   },
   "outputs": [],
   "source": [
    "# パラメータ設定（必要に応じて調整）\n",
    "max_bbox_percent = 10.0  # バウンディングボックスの最大サイズ\n",
    "frame_step = 1           # 1=全フレーム、2=隔フレーム\n",
    "target_fps = 0.0         # 0=入力と同じ\n",
    "\n",
    "output_video = \"output_no_watermark.mp4\"\n",
    "\n",
    "# ディレクトリ移動\n",
    "%cd /content/Sora2WatermarkRemover\n",
    "\n",
    "# 入力ファイルの確認\n",
    "import os\n",
    "input_path = f\"/content/{input_video}\"\n",
    "output_path = f\"/content/{output_video}\"\n",
    "\n",
    "if not os.path.exists(input_path):\n",
    "    print(f\"❌ エラー: 入力ファイルが見つかりません: {input_path}\")\n",
    "else:\n",
    "    print(f\"✅ 入力ファイル確認: {input_path}\")\n",
    "    print(f\"📝 出力先: {output_path}\")\n",
    "    print(f\"⚙️ パラメータ: max_bbox_percent={max_bbox_percent}, frame_step={frame_step}, target_fps={target_fps}\")\n",
    "    print(\"\\n🚀 処理を開始します...\\n\")\n",
    "    \n",
    "    # remwm.pyを実行（所要時間を計測）\n",
    "    import time\n",
    "    t0 = time.time()\n",
    "    !python remwm.py \"{input_path}\" \"{output_path}\" \\\n",
    "      --max-bbox-percent {max_bbox_percent} \\\n",
    "      --frame-step {frame_step} \\\n",
    "      --target-fps {target_fps}\n",
    "    print(f\"⏱ Elapsed: {time.time() - t0:.1f}s\")\n",
    "    \n",
    "    # 出力ファイルの確認\n",
    "    if os.path.exists(output_path):\n",
    "        file_size = os.path.getsize(output_path) / (1024 * 1024)  # MB\n",
    "        print(f\"\\n✅ 処理完了: {output_path}\")\n",
    "        print(f\"📊 ファイルサイズ: {file_size:.2f} MB\")\n",
    "    else:\n",
    "        print(f\"\\n❌ エラー: 出力ファイルが作成されませんでした\")\n",
    "        print(\"上記のエラーメッセージを確認してください\")"
   ]
  },
  {
   "cell_type": "markdown",
   "metadata": {
    "id": "download"
   },
   "source": [
    "## 5. 結果のダウンロード"
   ]
  },
  {
   "cell_type": "code",
   "execution_count": null,
   "metadata": {
    "id": "download_result"
   },
   "outputs": [],
   "source": [
    "# 結果のダウンロード\n",
    "print(\"結果をダウンロード:\")\n",
    "files.download(f\"/content/{output_video}\")"
   ]
  },
  {
   "cell_type": "markdown",
   "metadata": {
    "id": "tips"
   },
   "source": [
    "## 6. 使い方のヒント\n",
    "\n",
    "### 処理速度を上げたい場合\n",
    "\n",
    "```python\n",
    "frame_step = 2  # 隔フレーム処理（約2倍速）\n",
    "```\n",
    "\n",
    "### 出力fpsを固定したい場合\n",
    "\n",
    "```python\n",
    "target_fps = 30  # 30fpsで出力\n",
    "```\n",
    "\n",
    "### 組み合わせ例\n",
    "\n",
    "```python\n",
    "frame_step = 2\n",
    "target_fps = 30\n",
    "# → 隔フレーム処理して30fpsで出力\n",
    "```"
   ]
  }
 ],
 "metadata": {
  "accelerator": "GPU",
  "colab": {
   "gpuType": "T4",
   "provenance": []
  },
  "kernelspec": {
   "display_name": "Python 3",
   "name": "python3"
  },
  "language_info": {
   "name": "python"
  }
 },
 "nbformat": 4,
 "nbformat_minor": 0
}
