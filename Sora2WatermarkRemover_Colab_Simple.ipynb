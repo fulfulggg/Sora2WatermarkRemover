{
 "cells": [
  {
   "cell_type": "markdown",
   "metadata": {},
   "source": [
    "# Sora2 Watermark Remover - Simple Version\n",
    "\n",
    "シンプルな6ステップでSora動画からウォーターマークを除去します。\n",
    "\n",
    "**リポジトリ:** https://github.com/fulfulggg/Sora2WatermarkRemover"
   ]
  },
  {
   "cell_type": "markdown",
   "metadata": {},
   "source": [
    "## 1. 依存関係のインストール"
   ]
  },
  {
   "cell_type": "code",
   "execution_count": null,
   "metadata": {},
   "outputs": [],
   "source": [
    "!pip install -q iopaint transformers"
   ]
  },
  {
   "cell_type": "markdown",
   "metadata": {},
   "source": [
    "## 2. LaMaモデルのダウンロード"
   ]
  },
  {
   "cell_type": "code",
   "execution_count": null,
   "metadata": {},
   "outputs": [],
   "source": [
    "!iopaint download --model lama"
   ]
  },
  {
   "cell_type": "markdown",
   "metadata": {},
   "source": [
    "## 3. 最新コードの取得"
   ]
  },
  {
   "cell_type": "code",
   "execution_count": null,
   "metadata": {},
   "outputs": [],
   "source": [
    "!curl -sL https://github.com/fulfulggg/Sora2WatermarkRemover/archive/refs/heads/main.tar.gz | tar xz --strip-components=1\n",
    "print(\"\\n✅ リポジトリのダウンロードが完了しました。\")"
   ]
  },
  {
   "cell_type": "markdown",
   "metadata": {},
   "source": [
    "## 4. 動画のアップロード"
   ]
  },
  {
   "cell_type": "code",
   "execution_count": null,
   "metadata": {},
   "outputs": [],
   "source": [
    "from google.colab import files\n",
    "\n",
    "print(\"動画ファイルをアップロードしてください:\")\n",
    "uploaded = files.upload()\n",
    "\n",
    "input_file = list(uploaded.keys())[0]\n",
    "print(f\"\\n✅ アップロード完了: {input_file}\")"
   ]
  },
  {
   "cell_type": "markdown",
   "metadata": {},
   "source": [
    "## 5. ウォーターマークの除去\n",
    "\n",
    "パラメータ:\n",
    "- `--max-bbox-percent`: バウンディングボックスの最大サイズ（デフォルト: 15%）\n",
    "- `--force-format`: 出力形式（MP4/AVI）\n",
    "- `--overwrite`: 既存ファイルの上書き"
   ]
  },
  {
   "cell_type": "code",
   "execution_count": null,
   "metadata": {},
   "outputs": [],
   "source": [
    "!python remwm.py \"{input_file}\" \"/content/out.mp4\" \\\n",
    "  --max-bbox-percent=15 \\\n",
    "  --force-format=MP4 \\\n",
    "  --overwrite"
   ]
  },
  {
   "cell_type": "markdown",
   "metadata": {},
   "source": [
    "## 6. 結果のダウンロード"
   ]
  },
  {
   "cell_type": "code",
   "execution_count": null,
   "metadata": {},
   "outputs": [],
   "source": [
    "print(\"結果をダウンロード中...\")\n",
    "files.download('/content/out.mp4')\n",
    "print(\"\\n✅ 完了！\")"
   ]
  },
  {
   "cell_type": "markdown",
   "metadata": {},
   "source": [
    "---\n",
    "\n",
    "## オプション: パラメータ調整\n",
    "\n",
    "より細かい制御が必要な場合は、以下のパラメータも利用できます：\n",
    "\n",
    "```python\n",
    "!python remwm.py \"{input_file}\" \"/content/out.mp4\" \\\n",
    "  --max-bbox-percent=15 \\\n",
    "  --frame-step=2 \\\n",
    "  --target-fps=30 \\\n",
    "  --force-format=MP4 \\\n",
    "  --overwrite\n",
    "```\n",
    "\n",
    "- `--frame-step`: フレーム処理間隔（1=全フレーム、2=隔フレーム...）\n",
    "- `--target-fps`: 出力fps指定（0=入力と同じ）"
   ]
  }
 ],
 "metadata": {
  "kernelspec": {
   "display_name": "Python 3",
   "language": "python",
   "name": "python3"
  },
  "language_info": {
   "name": "python",
   "version": "3.10.0"
  }
 },
 "nbformat": 4,
 "nbformat_minor": 2
}
