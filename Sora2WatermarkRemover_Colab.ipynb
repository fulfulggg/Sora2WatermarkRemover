{
  "cells": [
    {
      "cell_type": "markdown",
      "metadata": {},
      "source": [
        "# Sora2 Watermark Remover\n",
        "\n",
        "AI を使って Sora 動画からウォーターマークを除去します。\n",
        "\n",
        "**新機能:**\n",
        "- `--frame-step`: フレーム処理間隔（1=全フレーム、2=隔フレーム）\n",
        "- `--target-fps`: 出力fps指定（0=入力と同じ）\n",
        "\n",
        "**リポジトリ:** https://github.com/fulfulggg/Sora2WatermarkRemover\n"
      ]
    },
    {
      "cell_type": "code",
      "execution_count": null,
      "metadata": {},
      "outputs": [],
      "source": [
        "# リポジトリのクローンとブランチ切替\n",
        "!git clone https://github.com/fulfulggg/Sora2WatermarkRemover.git\n",
        "%cd Sora2WatermarkRemover\n",
        "!git fetch origin --prune\n",
        "!git checkout main\n",
        "!git pull --ff-only\n",
        "print(\"✅ リポジトリの準備完了\")\n"
      ]
    },
    {
      "cell_type": "markdown",
      "metadata": {},
      "source": [
        "## ⚠️ 重要: 依存関係の修正\n",
        "\n",
        "次のセルを実行後、**必ずランタイムを再起動**してください。\n"
      ]
    },
    {
      "cell_type": "code",
      "execution_count": null,
      "metadata": {},
      "outputs": [],
      "source": [
        "# Pillow 修正（実行後にランタイムを再起動）\n",
        "!pip uninstall -y pillow PIL\n",
        "!pip install -U \"pillow==10.4.0\"\n",
        "print(\"\\n✅ 完了。ランタイム→ランタイムを再起動 を実行してください。\")\n"
      ]
    },
    {
      "cell_type": "code",
      "execution_count": null,
      "metadata": {},
      "outputs": [],
      "source": [
        "# 再起動後の確認\n",
        "import PIL\n",
        "import PIL._util as u\n",
        "\n",
        "print(f\"Pillow: {PIL.__version__}\")\n",
        "assert PIL.__version__ == \"10.4.0\" and hasattr(u, \"is_directory\"), \"❌ ランタイムを再起動してください\"\n",
        "print(\"✅ 依存関係OK\")\n"
      ]
    },
    {
      "cell_type": "code",
      "execution_count": null,
      "metadata": {},
      "outputs": [],
      "source": [
        "# 競合除去\n",
        "!pip uninstall -y diffusers huggingface_hub transformers\n",
        "\n",
        "# ベースライブラリ（ColabのGPU PyTorchを維持するためtorchは入れない）\n",
        "!pip install -q \"iopaint==1.2.2\" opencv-python tqdm loguru\n",
        "\n",
        "# 安定版ピン（Florence trust_remote_codeとiopaintの両立）\n",
        "!pip install -q \"diffusers==0.26.3\" \"huggingface_hub==0.25.2\" \"transformers==4.42.4\"\n",
        "\n",
        "!apt-get -qq install -y ffmpeg\n",
        "\n",
        "# バージョン確認\n",
        "from importlib.metadata import version as v\n",
        "print(f\"transformers: {v('transformers')}\")\n",
        "print(f\"huggingface_hub: {v('huggingface_hub')}\")\n",
        "print(f\"diffusers: {v('diffusers')}\")\n",
        "print(f\"iopaint: {v('iopaint')}\")\n",
        "print(\"✅ パッケージインストール完了\")\n"
      ]
    },
    {
      "cell_type": "code",
      "execution_count": null,
      "metadata": {},
      "outputs": [],
      "source": [
        "# LaMa モデルの事前ダウンロード\n",
        "!iopaint download --model lama\n",
        "print(\"✅ LaMaモデルのダウンロード完了\")\n"
      ]
    },
    {
      "cell_type": "code",
      "execution_count": null,
      "metadata": {},
      "outputs": [],
      "source": [
        "%%bash\n",
        "set -e\n",
        "cd /content/Sora2WatermarkRemover\n",
        "mkdir -p flash_attn\n",
        "cat > flash_attn/__init__.py <<'PY'\n",
        "\"\"\"\n",
        "Lightweight stub package for `flash_attn`.\n",
        "Satisfies import-time checks in Florence-2 (trust_remote_code). Not a real implementation.\n",
        "\"\"\"\n",
        "def __getattr__(name: str):\n",
        "    raise RuntimeError(\n",
        "        f\"flash_attn stub in use: attempted to access attribute '{name}'. \"\n",
        "        \"This environment runs with eager attention. If you need FlashAttention, \"\n",
        "        \"install a matching wheel for your CUDA/SM.\"\n",
        "    )\n",
        "PY\n",
        "echo \"✅ flash_attn stub created at /content/Sora2WatermarkRemover/flash_attn\"\n"
      ]
    },
    {
      "cell_type": "code",
      "execution_count": null,
      "metadata": {},
      "outputs": [],
      "source": [
        "import torch\n",
        "\n",
        "device = \"cuda\" if torch.cuda.is_available() else \"cpu\"\n",
        "print(f\"Device: {device}\")\n",
        "\n",
        "if torch.cuda.is_available():\n",
        "    print(f\"GPU: {torch.cuda.get_device_name(0)}\")\n",
        "else:\n",
        "    print(\"⚠️ GPU未検出。ランタイム→ランタイムのタイプを変更→GPU\")\n"
      ]
    },
    {
      "cell_type": "code",
      "execution_count": null,
      "metadata": {},
      "outputs": [],
      "source": [
        "from google.colab import files\n",
        "\n",
        "print(\"動画ファイルをアップロード:\")\n",
        "uploaded = files.upload()\n",
        "input_video = list(uploaded.keys())[0]\n",
        "print(f\"✅ アップロード: {input_video}\")\n"
      ]
    },
    {
      "cell_type": "markdown",
      "metadata": {},
      "source": [
        "## パラメータ設定\n",
        "\n",
        "- `max_bbox_percent`: 検出する最大サイズ（画像比%）\n",
        "- `frame_step`: 処理間隔（1=全フレーム、2=隔フレーム）\n",
        "- `target_fps`: 出力fps（0=入力と同じ）\n"
      ]
    },
    {
      "cell_type": "code",
      "execution_count": null,
      "metadata": {},
      "outputs": [],
      "source": [
        "# パラメータ\n",
        "max_bbox_percent = 10.0\n",
        "frame_step = 1\n",
        "target_fps = 0.0\n",
        "output_video = \"output.mp4\"\n",
        "\n",
        "# 処理実行\n",
        "import os\n",
        "import time\n",
        "\n",
        "input_path = f\"/content/{input_video}\"\n",
        "output_path = f\"/content/{output_video}\"\n",
        "\n",
        "%cd /content/Sora2WatermarkRemover\n",
        "\n",
        "print(f\"入力: {input_path}\")\n",
        "print(f\"出力: {output_path}\")\n",
        "print(f\"パラメータ: bbox={max_bbox_percent}%, step={frame_step}, fps={target_fps}\")\n",
        "print(\"\\n🚀 処理開始...\\n\")\n",
        "\n",
        "t0 = time.time()\n",
        "!python remwm.py \"{input_path}\" \"{output_path}\" \\\n",
        "  --max-bbox-percent {max_bbox_percent} \\\n",
        "  --frame-step {frame_step} \\\n",
        "  --target-fps {target_fps} \\\n",
        "  --force-format=MP4\n",
        "\n",
        "elapsed = time.time() - t0\n",
        "\n",
        "if os.path.exists(output_path):\n",
        "    size_mb = os.path.getsize(output_path) / (1024 * 1024)\n",
        "    print(f\"\\n✅ 処理完了\")\n",
        "    print(f\"⏱ 処理時間: {elapsed:.1f}秒\")\n",
        "    print(f\"📊 ファイルサイズ: {size_mb:.2f} MB\")\n",
        "else:\n",
        "    print(\"\\n❌ エラー: 出力ファイルが作成されませんでした\")\n"
      ]
    },
    {
      "cell_type": "code",
      "execution_count": null,
      "metadata": {},
      "outputs": [],
      "source": [
        "# 結果のダウンロード\n",
        "from google.colab import files\n",
        "\n",
        "files.download(f\"/content/{output_video}\")\n",
        "print(\"✅ ダウンロード完了\")\n"
      ]
    },
    {
      "cell_type": "markdown",
      "metadata": {},
      "source": [
        "## 使い方のヒント\n",
        "\n",
        "### 処理を高速化\n",
        "```python\n",
        "frame_step = 2  # 隔フレーム処理\n",
        "```\n",
        "\n",
        "### 出力fpsを固定\n",
        "```python\n",
        "target_fps = 30\n",
        "```\n",
        "\n",
        "### 検出感度を調整\n",
        "```python\n",
        "max_bbox_percent = 15  # 大きいロゴも検出\n",
        "```\n"
      ]
    }
  ],
  "metadata": {
    "language_info": {
      "name": "python"
    }
  },
  "nbformat": 4,
  "nbformat_minor": 2
}
