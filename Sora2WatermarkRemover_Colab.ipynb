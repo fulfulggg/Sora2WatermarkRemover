{
  "cells": [
    {
      "cell_type": "markdown",
      "metadata": {
        "id": "header_1"
      },
      "source": [
        "# Sora2 Watermark Remover (Google Colab版)\n",
        "\n",
        "このノートブックは、Sora動画からウォーターマークを除去するツールのGoogle Colab版です。\n",
        "\n",
        "**新機能:**\n",
        "- `--frame-step`: フレーム処理間隔（1=全フレーム、2=隔フレーム...）\n",
        "- `--target-fps`: 出力fps指定（0=入力と同じ）\n",
        "\n",
        "**リポジトリ:** https://github.com/fulfulggg/Sora2WatermarkRemover"
      ]
    },
    {
      "cell_type": "markdown",
      "metadata": {
        "id": "setup_header"
      },
      "source": [
        "## 1. セットアップ\n",
        "\n",
        "### GitHubからリポジトリをクローン"
      ]
    },
    {
      "cell_type": "code",
      "execution_count": null,
      "metadata": {
        "id": "clone_repo"
      },
      "outputs": [],
      "source": [
        "# GitHubリポジトリのクローン（毎回クリーン）\n",
        "REPO_URL=\"https://github.com/fulfulggg/Sora2WatermarkRemover.git\"\n",
        "BRANCH=\"main\"\n",
        "WORKDIR=\"/content/Sora2WatermarkRemover\"\n",
        "\n",
        "%cd /content\n",
        "!rm -f /content/remwm.py\n",
        "!rm -rf \"$WORKDIR\"\n",
        "!git clone --depth=1 -b \"$BRANCH\" \"$REPO_URL\" \"$WORKDIR\"\n",
        "%cd \"$WORKDIR\"\n",
        "!git rev-parse HEAD\n",
        "\n",
        "print(\"\\n✅ GitHubから最新を取得しました。\")"
      ]
    },
    {
      "cell_type": "markdown",
      "metadata": {
        "id": "pillow_warning"
      },
      "source": [
        "### ⚠️ 重要: Pillow依存関係の修正\n",
        "\n",
        "**🔴 以下のセルを実行すると自動的にランタイムが再起動されます**\n",
        "\n",
        "再起動後は「2. 再起動後のセットアップ」から続行してください。"
      ]
    },
    {
      "cell_type": "code",
      "execution_count": null,
      "metadata": {
        "id": "fix_pillow_with_restart"
      },
      "outputs": [],
      "source": [
        "# Pillow依存関係の修正（手動再起動のお願い）\n",
        "import os\n",
        "FLAG = '/content/pillow_restart_completed.flag'\n",
        "\n",
        "if not os.path.exists(FLAG):\n",
        "    get_ipython().run_line_magic('pip', 'uninstall -y pillow PIL')\n",
        "    get_ipython().run_line_magic('pip', 'install -U \"pillow==10.4.0\"')\n",
        "    get_ipython().run_line_magic('pip', 'install -U \"websockets==15.0.1\"')\n",
        "\n",
        "    with open(FLAG, 'w') as f:\n",
        "        f.write('done')\n",
        "\n",
        "    print(\"\\n\" + \"=\"*60)\n",
        "    print(\"🔴 手動でランタイムを再起動してください\")\n",
        "    print(\"=\"*60)\n",
        "    print(\"\\n手順:\")\n",
        "    print(\"1. メニュー『ランタイム』→『ランタイムを再起動』\")\n",
        "    print(\"2. 再起動後『2. 再起動後のセットアップ』から続行\")\n",
        "    print(\"\\n\" + \"=\"*60)\n",
        "else:\n",
        "    print(\"✅ すでに再起動済みです。次のセルへ進んでください。\")"
      ]
    },
    {
      "cell_type": "markdown",
      "metadata": {
        "id": "after_restart_section"
      },
      "source": [
        "---\n",
        "\n",
        "## 2. 再起動後のセットアップ\n",
        "\n",
        "### ⬇️ ここから再開してください"
      ]
    },
    {
      "cell_type": "code",
      "execution_count": null,
      "metadata": {
        "id": "pathlib_test"
      },
      "outputs": [],
      "source": [
        "# Path動作確認（再起動後の最初のセル）\n",
        "from pathlib import Path\n",
        "import os\n",
        "\n",
        "# 再起動フラグの確認\n",
        "restart_flag = '/content/pillow_restart_completed.flag'\n",
        "if os.path.exists(restart_flag):\n",
        "    print(\"✅ ランタイム再起動済みを確認\")\n",
        "else:\n",
        "    print(\"⚠️ まだランタイム再起動されていません。上のセルを実行してください。\")\n",
        "\n",
        "# Path動作テスト\n",
        "print(\"Path動作テスト:\", Path(\"/content\").exists())  # True ならOK\n",
        "\n",
        "if Path(\"/content\").exists():\n",
        "    print(\"✅ Pathlib正常動作を確認\")\n",
        "else:\n",
        "    print(\"❌ エラー: ランタイムを再起動してください\")"
      ]
    },
    {
      "cell_type": "code",
      "execution_count": null,
      "metadata": {
        "id": "change_directory_after_restart"
      },
      "outputs": [],
      "source": [
        "# ディレクトリ移動（再起動後は必要）\n",
        "%cd /content/Sora2WatermarkRemover\n",
        "print(\"✅ 作業ディレクトリに移動しました\")"
      ]
    },
    {
      "cell_type": "code",
      "execution_count": null,
      "metadata": {
        "id": "check_pillow"
      },
      "outputs": [],
      "source": [
        "# Pillow確認\n",
        "import PIL\n",
        "import PIL._util as u\n",
        "\n",
        "print(f\"Pillow version: {PIL.__version__}\")  # => 10.4.0\n",
        "print(f\"is_directory exists: {hasattr(u, 'is_directory')}\")  # => True\n",
        "\n",
        "if PIL.__version__ == \"10.4.0\" and hasattr(u, \"is_directory\"):\n",
        "    print(\"✅ Pillow依存関係は正常です。次のセルに進んでください。\")\n",
        "else:\n",
        "    print(\"⚠️ 問題があります。ランタイムを再起動しましたか？\")"
      ]
    },
    {
      "cell_type": "code",
      "execution_count": null,
      "metadata": {
        "id": "install_packages"
      },
      "outputs": [],
      "source": [
        "# 必要なパッケージのインストール（%pip 使用・バージョン固定）\n",
        "get_ipython().run_line_magic('pip', 'install -U huggingface_hub==0.24.6 diffusers==0.26.3 websockets==15.0.1')\n",
        "get_ipython().run_line_magic('pip', 'install --no-cache-dir --quiet transformers opencv-python tqdm loguru iopaint')\n",
        "!apt-get -qq install -y ffmpeg\n",
        "\n",
        "# HF Hub 互換シム（cached_download が無い版への対応）\n",
        "try:\n",
        "    import huggingface_hub as hfh\n",
        "    from huggingface_hub import hf_hub_download as _hf\n",
        "    if not hasattr(hfh, \"cached_download\"):\n",
        "        hfh.cached_download = _hf\n",
        "except Exception:\n",
        "    pass\n",
        "\n",
        "# LaMa モデルの事前ダウンロード（Python経由）\n",
        "print(\"LaMaモデルをダウンロード中...\")\n",
        "try:\n",
        "    from iopaint.download import cli_download_model\n",
        "    cli_download_model(\"lama\")\n",
        "except Exception as e:\n",
        "    print(\"iopaint.download 経由でのDLに失敗しました:\", e)\n",
        "    print(\"フォールバック: iopaint CLI を試行します…\")\n",
        "    !iopaint download --model lama\n",
        "\n",
        "print(\"\\n✅ パッケージ＋LaMaモデルの準備が完了しました。\")"
      ]
    },
    {
      "cell_type": "markdown",
      "metadata": {
        "id": "device_check_header"
      },
      "source": [
        "## 3. デバイス確認"
      ]
    },
    {
      "cell_type": "code",
      "execution_count": null,
      "metadata": {
        "id": "check_device"
      },
      "outputs": [],
      "source": [
        "import torch\n",
        "\n",
        "device = \"cuda\" if torch.cuda.is_available() else \"cpu\"\n",
        "print(f\"Using device: {device}\")\n",
        "\n",
        "if torch.cuda.is_available():\n",
        "    print(f\"CUDA device: {torch.cuda.get_device_name(0)}\")\n",
        "else:\n",
        "    print(\"⚠️ GPUが利用できません。ランタイム→ランタイムのタイプを変更→GPUを選択してください。\")"
      ]
    },
    {
      "cell_type": "markdown",
      "metadata": {
        "id": "upload_header"
      },
      "source": [
        "## 4. 動画アップロード"
      ]
    },
    {
      "cell_type": "code",
      "execution_count": null,
      "metadata": {
        "id": "upload_video"
      },
      "outputs": [],
      "source": [
        "from google.colab import files\n",
        "import os, shutil\n",
        "\n",
        "print(\"動画ファイルをアップロードしてください:\")\n",
        "uploaded = files.upload()\n",
        "\n",
        "# 絶対パスに正規化し、/content 配下に固定（空白や(1)付き名称でも安全）\n",
        "input_video = list(uploaded.keys())[0]\n",
        "abs_src = os.path.abspath(input_video)\n",
        "root, ext = os.path.splitext(abs_src)\n",
        "input_path = f\"/content/input_uploaded{ext or '.mp4'}\"\n",
        "if abs_src != input_path:\n",
        "    shutil.move(abs_src, input_path)\n",
        "print(f\"✔ Uploaded → {input_path} (exists={os.path.exists(input_path)})\")\n",
        "UPLOAD_READY = True"
      ]
    },
    {
      "cell_type": "markdown",
      "metadata": {
        "id": "processing_header"
      },
      "source": [
        "## 5. 動画処理\n",
        "\n",
        "### パラメータ設定\n",
        "\n",
        "- `max_bbox_percent`: バウンディングボックスの最大サイズ（画像に対する割合%）\n",
        "- `frame_step`: フレーム処理間隔（1=全フレーム、2=隔フレーム...）\n",
        "- `target_fps`: 出力fps（0=入力と同じ）"
      ]
    },
    {
      "cell_type": "code",
      "execution_count": null,
      "metadata": {
        "id": "process_video"
      },
      "outputs": [],
      "source": [
        "# パラメータ設定（必要に応じて調整）\n",
        "max_bbox_percent = 10.0  # バウンディングボックスの最大サイズ\n",
        "frame_step = 1           # 1=全フレーム、2=隔フレーム\n",
        "target_fps = 0.0         # 0=入力と同じ\n",
        "\n",
        "output_video = \"output_no_watermark.mp4\"\n",
        "\n",
        "# ディレクトリ移動\n",
        "%cd /content/Sora2WatermarkRemover\n",
        "\n",
        "# 入力ファイルの確認（絶対パスを使用）\n",
        "assert 'UPLOAD_READY' in globals() and UPLOAD_READY, \"先にアップロードのセルを実行してください\"\n",
        "import os\n",
        "output_path = f\"/content/{output_video}\"\n",
        "\n",
        "assert os.path.exists(input_path), f\"入力ファイルが見つかりません: {input_path}\"\n",
        "print(f\"✅ 入力ファイル確認: {input_path}\")\n",
        "print(f\"📝 出力先: {output_path}\")\n",
        "print(f\"⚙️ パラメータ: max_bbox_percent={max_bbox_percent}, frame_step={frame_step}, target_fps={target_fps}\")\n",
        "print(\"\\n🚀 処理を開始します...\\n\")\n",
        "\n",
        "# remwm.pyを実行（GitHubから取得した絶対パスで呼び出し）\n",
        "!python /content/Sora2WatermarkRemover/remwm.py \"{input_path}\" \"{output_path}\" \\\n",
        "  --max-bbox-percent {max_bbox_percent} \\\n",
        "  --frame-step {frame_step} \\\n",
        "  --target-fps {target_fps} \\\n",
        "  --overwrite\n",
        "\n",
        "# 出力ファイルの確認\n",
        "if os.path.exists(output_path):\n",
        "    file_size = os.path.getsize(output_path) / (1024 * 1024)  # MB\n",
        "    print(f\"\\n✅ 処理完了: {output_path}\")\n",
        "    print(f\"📊 ファイルサイズ: {file_size:.2f} MB\")\n",
        "else:\n",
        "    print(f\"\\n❌ エラー: 出力ファイルが作成されませんでした\")\n",
        "    print(\"上記のエラーメッセージを確認してください\")"
      ]
    },
    {
      "cell_type": "markdown",
      "metadata": {
        "id": "download_header"
      },
      "source": [
        "## 6. 結果のダウンロード"
      ]
    },
    {
      "cell_type": "code",
      "execution_count": null,
      "metadata": {
        "id": "download_result"
      },
      "outputs": [],
      "source": [
        "# 結果のダウンロード\n",
        "print(\"結果をダウンロード:\")\n",
        "files.download(f\"/content/{output_video}\")"
      ]
    },
    {
      "cell_type": "markdown",
      "metadata": {
        "id": "tips_header"
      },
      "source": [
        "## 7. 使い方のヒント\n",
        "\n",
        "### 処理速度を上げたい場合\n",
        "\n",
        "```python\n",
        "frame_step = 2  # 隔フレーム処理（約2倍速）\n",
        "```\n",
        "\n",
        "### 出力fpsを固定したい場合\n",
        "\n",
        "```python\n",
        "target_fps = 30  # 30fpsで出力\n",
        "```\n",
        "\n",
        "### 組み合わせ例\n",
        "\n",
        "```python\n",
        "frame_step = 2\n",
        "target_fps = 30\n",
        "# → 隔フレーム処理して30fpsで出力\n",
        "```"
      ]
    },
    {
      "cell_type": "markdown",
      "metadata": {
        "id": "troubleshooting"
      },
      "source": [
        "## 8. トラブルシューティング\n",
        "\n",
        "### ⚠️ pathlibエラー（AttributeError: 'PosixPath' object has no attribute '_str'）\n",
        "\n",
        "**解決方法:**\n",
        "- このノートブックは自動でランタイム再起動するため、通常は発生しません\n",
        "- もし発生した場合は「ランタイム」→「ランタイムを再起動」を手動で実行\n",
        "\n",
        "### その他のよくある問題\n",
        "\n",
        "1. **pipインストールがハングアップする場合**\n",
        "   - ランタイムを再起動してもう一度実行\n",
        "\n",
        "2. **LaMaモデルが読み込めない場合**\n",
        "   - `!iopaint download --model lama`を再実行\n",
        "   - ランタイムを再起動\n",
        "\n",
        "3. **GPUが使用できない場合**\n",
        "   - ランタイム→ランタイムのタイプを変更→GPU（T4推奨）を選択\n",
        "\n",
        "4. **メモリエラーの場合**\n",
        "   - `frame_step`を大きくして処理フレーム数を減らす\n",
        "   - 動画を短く分割して処理\n",
        "\n",
        "### デバッグ用テストコード\n",
        "\n",
        "```python\n",
        "# Path動作確認\n",
        "from pathlib import Path\n",
        "print(Path(\"/content\").exists())  # True ならOK\n",
        "```"
      ]
    }
  ],
  "metadata": {
    "accelerator": "GPU",
    "colab": {
      "gpuType": "T4",
      "provenance": []
    },
    "kernelspec": {
      "display_name": "Python 3",
      "name": "python3"
    },
    "language_info": {
      "name": "python"
    }
  },
  "nbformat": 4,
  "nbformat_minor": 0
}
